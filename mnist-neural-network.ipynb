{
 "cells": [
  {
   "cell_type": "code",
   "execution_count": 1,
   "id": "82732110",
   "metadata": {
    "_cell_guid": "b1076dfc-b9ad-4769-8c92-a6c4dae69d19",
    "_uuid": "8f2839f25d086af736a60e9eeb907d3b93b6e0e5",
    "execution": {
     "iopub.execute_input": "2025-06-20T21:03:02.875547Z",
     "iopub.status.busy": "2025-06-20T21:03:02.875232Z",
     "iopub.status.idle": "2025-06-20T21:03:04.826023Z",
     "shell.execute_reply": "2025-06-20T21:03:04.825269Z"
    },
    "papermill": {
     "duration": 1.957181,
     "end_time": "2025-06-20T21:03:04.827654",
     "exception": false,
     "start_time": "2025-06-20T21:03:02.870473",
     "status": "completed"
    },
    "tags": []
   },
   "outputs": [],
   "source": [
    "# to deal with matracies\n",
    "import numpy as np\n",
    "# to read data\n",
    "import pandas as pd \n",
    "# to display data\n",
    "from matplotlib import pyplot as plt "
   ]
  },
  {
   "cell_type": "code",
   "execution_count": 2,
   "id": "33477e34",
   "metadata": {
    "execution": {
     "iopub.execute_input": "2025-06-20T21:03:04.835046Z",
     "iopub.status.busy": "2025-06-20T21:03:04.834596Z",
     "iopub.status.idle": "2025-06-20T21:03:08.523213Z",
     "shell.execute_reply": "2025-06-20T21:03:08.522418Z"
    },
    "papermill": {
     "duration": 3.693959,
     "end_time": "2025-06-20T21:03:08.524958",
     "exception": false,
     "start_time": "2025-06-20T21:03:04.830999",
     "status": "completed"
    },
    "tags": []
   },
   "outputs": [],
   "source": [
    "# importing MNIST Dataset from Kaggle\n",
    "data = pd.read_csv('/kaggle/input/digit-recognizer/train.csv')"
   ]
  },
  {
   "cell_type": "code",
   "execution_count": 3,
   "id": "a8c36b61",
   "metadata": {
    "execution": {
     "iopub.execute_input": "2025-06-20T21:03:08.532356Z",
     "iopub.status.busy": "2025-06-20T21:03:08.532024Z",
     "iopub.status.idle": "2025-06-20T21:03:08.566806Z",
     "shell.execute_reply": "2025-06-20T21:03:08.565806Z"
    },
    "papermill": {
     "duration": 0.040182,
     "end_time": "2025-06-20T21:03:08.568401",
     "exception": false,
     "start_time": "2025-06-20T21:03:08.528219",
     "status": "completed"
    },
    "tags": []
   },
   "outputs": [
    {
     "data": {
      "text/html": [
       "<div>\n",
       "<style scoped>\n",
       "    .dataframe tbody tr th:only-of-type {\n",
       "        vertical-align: middle;\n",
       "    }\n",
       "\n",
       "    .dataframe tbody tr th {\n",
       "        vertical-align: top;\n",
       "    }\n",
       "\n",
       "    .dataframe thead th {\n",
       "        text-align: right;\n",
       "    }\n",
       "</style>\n",
       "<table border=\"1\" class=\"dataframe\">\n",
       "  <thead>\n",
       "    <tr style=\"text-align: right;\">\n",
       "      <th></th>\n",
       "      <th>label</th>\n",
       "      <th>pixel0</th>\n",
       "      <th>pixel1</th>\n",
       "      <th>pixel2</th>\n",
       "      <th>pixel3</th>\n",
       "      <th>pixel4</th>\n",
       "      <th>pixel5</th>\n",
       "      <th>pixel6</th>\n",
       "      <th>pixel7</th>\n",
       "      <th>pixel8</th>\n",
       "      <th>...</th>\n",
       "      <th>pixel774</th>\n",
       "      <th>pixel775</th>\n",
       "      <th>pixel776</th>\n",
       "      <th>pixel777</th>\n",
       "      <th>pixel778</th>\n",
       "      <th>pixel779</th>\n",
       "      <th>pixel780</th>\n",
       "      <th>pixel781</th>\n",
       "      <th>pixel782</th>\n",
       "      <th>pixel783</th>\n",
       "    </tr>\n",
       "  </thead>\n",
       "  <tbody>\n",
       "    <tr>\n",
       "      <th>0</th>\n",
       "      <td>1</td>\n",
       "      <td>0</td>\n",
       "      <td>0</td>\n",
       "      <td>0</td>\n",
       "      <td>0</td>\n",
       "      <td>0</td>\n",
       "      <td>0</td>\n",
       "      <td>0</td>\n",
       "      <td>0</td>\n",
       "      <td>0</td>\n",
       "      <td>...</td>\n",
       "      <td>0</td>\n",
       "      <td>0</td>\n",
       "      <td>0</td>\n",
       "      <td>0</td>\n",
       "      <td>0</td>\n",
       "      <td>0</td>\n",
       "      <td>0</td>\n",
       "      <td>0</td>\n",
       "      <td>0</td>\n",
       "      <td>0</td>\n",
       "    </tr>\n",
       "    <tr>\n",
       "      <th>1</th>\n",
       "      <td>0</td>\n",
       "      <td>0</td>\n",
       "      <td>0</td>\n",
       "      <td>0</td>\n",
       "      <td>0</td>\n",
       "      <td>0</td>\n",
       "      <td>0</td>\n",
       "      <td>0</td>\n",
       "      <td>0</td>\n",
       "      <td>0</td>\n",
       "      <td>...</td>\n",
       "      <td>0</td>\n",
       "      <td>0</td>\n",
       "      <td>0</td>\n",
       "      <td>0</td>\n",
       "      <td>0</td>\n",
       "      <td>0</td>\n",
       "      <td>0</td>\n",
       "      <td>0</td>\n",
       "      <td>0</td>\n",
       "      <td>0</td>\n",
       "    </tr>\n",
       "    <tr>\n",
       "      <th>2</th>\n",
       "      <td>1</td>\n",
       "      <td>0</td>\n",
       "      <td>0</td>\n",
       "      <td>0</td>\n",
       "      <td>0</td>\n",
       "      <td>0</td>\n",
       "      <td>0</td>\n",
       "      <td>0</td>\n",
       "      <td>0</td>\n",
       "      <td>0</td>\n",
       "      <td>...</td>\n",
       "      <td>0</td>\n",
       "      <td>0</td>\n",
       "      <td>0</td>\n",
       "      <td>0</td>\n",
       "      <td>0</td>\n",
       "      <td>0</td>\n",
       "      <td>0</td>\n",
       "      <td>0</td>\n",
       "      <td>0</td>\n",
       "      <td>0</td>\n",
       "    </tr>\n",
       "    <tr>\n",
       "      <th>3</th>\n",
       "      <td>4</td>\n",
       "      <td>0</td>\n",
       "      <td>0</td>\n",
       "      <td>0</td>\n",
       "      <td>0</td>\n",
       "      <td>0</td>\n",
       "      <td>0</td>\n",
       "      <td>0</td>\n",
       "      <td>0</td>\n",
       "      <td>0</td>\n",
       "      <td>...</td>\n",
       "      <td>0</td>\n",
       "      <td>0</td>\n",
       "      <td>0</td>\n",
       "      <td>0</td>\n",
       "      <td>0</td>\n",
       "      <td>0</td>\n",
       "      <td>0</td>\n",
       "      <td>0</td>\n",
       "      <td>0</td>\n",
       "      <td>0</td>\n",
       "    </tr>\n",
       "    <tr>\n",
       "      <th>4</th>\n",
       "      <td>0</td>\n",
       "      <td>0</td>\n",
       "      <td>0</td>\n",
       "      <td>0</td>\n",
       "      <td>0</td>\n",
       "      <td>0</td>\n",
       "      <td>0</td>\n",
       "      <td>0</td>\n",
       "      <td>0</td>\n",
       "      <td>0</td>\n",
       "      <td>...</td>\n",
       "      <td>0</td>\n",
       "      <td>0</td>\n",
       "      <td>0</td>\n",
       "      <td>0</td>\n",
       "      <td>0</td>\n",
       "      <td>0</td>\n",
       "      <td>0</td>\n",
       "      <td>0</td>\n",
       "      <td>0</td>\n",
       "      <td>0</td>\n",
       "    </tr>\n",
       "  </tbody>\n",
       "</table>\n",
       "<p>5 rows × 785 columns</p>\n",
       "</div>"
      ],
      "text/plain": [
       "   label  pixel0  pixel1  pixel2  pixel3  pixel4  pixel5  pixel6  pixel7  \\\n",
       "0      1       0       0       0       0       0       0       0       0   \n",
       "1      0       0       0       0       0       0       0       0       0   \n",
       "2      1       0       0       0       0       0       0       0       0   \n",
       "3      4       0       0       0       0       0       0       0       0   \n",
       "4      0       0       0       0       0       0       0       0       0   \n",
       "\n",
       "   pixel8  ...  pixel774  pixel775  pixel776  pixel777  pixel778  pixel779  \\\n",
       "0       0  ...         0         0         0         0         0         0   \n",
       "1       0  ...         0         0         0         0         0         0   \n",
       "2       0  ...         0         0         0         0         0         0   \n",
       "3       0  ...         0         0         0         0         0         0   \n",
       "4       0  ...         0         0         0         0         0         0   \n",
       "\n",
       "   pixel780  pixel781  pixel782  pixel783  \n",
       "0         0         0         0         0  \n",
       "1         0         0         0         0  \n",
       "2         0         0         0         0  \n",
       "3         0         0         0         0  \n",
       "4         0         0         0         0  \n",
       "\n",
       "[5 rows x 785 columns]"
      ]
     },
     "execution_count": 3,
     "metadata": {},
     "output_type": "execute_result"
    }
   ],
   "source": [
    "data.head()"
   ]
  },
  {
   "cell_type": "code",
   "execution_count": 4,
   "id": "869c1320",
   "metadata": {
    "execution": {
     "iopub.execute_input": "2025-06-20T21:03:08.576665Z",
     "iopub.status.busy": "2025-06-20T21:03:08.575827Z",
     "iopub.status.idle": "2025-06-20T21:03:09.495292Z",
     "shell.execute_reply": "2025-06-20T21:03:09.494387Z"
    },
    "papermill": {
     "duration": 0.925316,
     "end_time": "2025-06-20T21:03:09.497096",
     "exception": false,
     "start_time": "2025-06-20T21:03:08.571780",
     "status": "completed"
    },
    "tags": []
   },
   "outputs": [],
   "source": [
    "data = np.array(data)\n",
    "\n",
    "# Dimensions of data\n",
    "m, n = data.shape\n",
    "\n",
    "# Shuffle to prevent the model from learning patterns based on data order\n",
    "np.random.shuffle(data)\n",
    "\n",
    "# First thousand examples\n",
    "# .T makes data as a column instead of row\n",
    "data_dev = data[0:1000].T\n",
    "Y_dev = data_dev[0]\n",
    "X_dev = data_dev[1:n]\n",
    "X_dev = X_dev / 255.\n",
    "\n",
    "# First thousand to train\n",
    "data_train = data[1000:m].T\n",
    "Y_train = data_train[0]\n",
    "X_train = data_train[1:n]\n",
    "X_train = X_train / 255.\n",
    "_,m_train = X_train.shape"
   ]
  },
  {
   "cell_type": "code",
   "execution_count": 5,
   "id": "6fad88af",
   "metadata": {
    "execution": {
     "iopub.execute_input": "2025-06-20T21:03:09.509097Z",
     "iopub.status.busy": "2025-06-20T21:03:09.508781Z",
     "iopub.status.idle": "2025-06-20T21:03:09.515526Z",
     "shell.execute_reply": "2025-06-20T21:03:09.514398Z"
    },
    "papermill": {
     "duration": 0.014574,
     "end_time": "2025-06-20T21:03:09.517257",
     "exception": false,
     "start_time": "2025-06-20T21:03:09.502683",
     "status": "completed"
    },
    "tags": []
   },
   "outputs": [
    {
     "data": {
      "text/plain": [
       "array([2, 5, 0, ..., 6, 5, 9])"
      ]
     },
     "execution_count": 5,
     "metadata": {},
     "output_type": "execute_result"
    }
   ],
   "source": [
    "Y_train"
   ]
  },
  {
   "cell_type": "markdown",
   "id": "6b007be0",
   "metadata": {
    "papermill": {
     "duration": 0.003109,
     "end_time": "2025-06-20T21:03:09.523784",
     "exception": false,
     "start_time": "2025-06-20T21:03:09.520675",
     "status": "completed"
    },
    "tags": []
   },
   "source": [
    "This section loads all examples"
   ]
  },
  {
   "cell_type": "code",
   "execution_count": 6,
   "id": "5caa473e",
   "metadata": {
    "execution": {
     "iopub.execute_input": "2025-06-20T21:03:09.531184Z",
     "iopub.status.busy": "2025-06-20T21:03:09.530815Z",
     "iopub.status.idle": "2025-06-20T21:03:09.545396Z",
     "shell.execute_reply": "2025-06-20T21:03:09.544340Z"
    },
    "papermill": {
     "duration": 0.020322,
     "end_time": "2025-06-20T21:03:09.547153",
     "exception": false,
     "start_time": "2025-06-20T21:03:09.526831",
     "status": "completed"
    },
    "tags": []
   },
   "outputs": [],
   "source": [
    "def init_params():\n",
    "    W1 = np.random.rand(10, 784) - 0.5\n",
    "    b1 = np.random.rand(10, 1) - 0.5\n",
    "    W2 = np.random.rand(10, 10) - 0.5\n",
    "    b2 = np.random.rand(10, 1) - 0.5\n",
    "    return W1, b1, W2, b2\n",
    "\n",
    "def ReLU(Z):\n",
    "    return np.maximum(Z, 0)\n",
    "\n",
    "def softmax(Z):\n",
    "    A = np.exp(Z) / sum(np.exp(Z))\n",
    "    return A\n",
    "    \n",
    "def forward_prop(W1, b1, W2, b2, X):\n",
    "    Z1 = W1.dot(X) + b1\n",
    "    A1 = ReLU(Z1)\n",
    "    Z2 = W2.dot(A1) + b2\n",
    "    A2 = softmax(Z2)\n",
    "    return Z1, A1, Z2, A2\n",
    "\n",
    "def ReLU_deriv(Z):\n",
    "    return Z > 0\n",
    "\n",
    "def one_hot(Y):\n",
    "    one_hot_Y = np.zeros((Y.size, Y.max() + 1))\n",
    "    one_hot_Y[np.arange(Y.size), Y] = 1\n",
    "    one_hot_Y = one_hot_Y.T\n",
    "    return one_hot_Y\n",
    "\n",
    "def back_prop(Z1, A1, Z2, A2, W1, W2, X, Y):\n",
    "    one_hot_Y = one_hot(Y)\n",
    "    dZ2 = A2 - one_hot_Y\n",
    "    dW2 = 1 / m * dZ2.dot(A1.T)\n",
    "    db2 = 1 / m * np.sum(dZ2)\n",
    "    dZ1 = W2.T.dot(dZ2) * ReLU_deriv(Z1)\n",
    "    dW1 = 1 / m * dZ1.dot(X.T)\n",
    "    db1 = 1 / m * np.sum(dZ1)\n",
    "    return dW1, db1, dW2, db2\n",
    "\n",
    "def update_params(W1, b1, W2, b2, dW1, db1, dW2, db2, alpha):\n",
    "    W1 = W1 - alpha * dW1\n",
    "    b1 = b1 - alpha * db1    \n",
    "    W2 = W2 - alpha * dW2  \n",
    "    b2 = b2 - alpha * db2    \n",
    "    return W1, b1, W2, b2"
   ]
  },
  {
   "cell_type": "code",
   "execution_count": 7,
   "id": "5e99d88b",
   "metadata": {
    "execution": {
     "iopub.execute_input": "2025-06-20T21:03:09.555382Z",
     "iopub.status.busy": "2025-06-20T21:03:09.554989Z",
     "iopub.status.idle": "2025-06-20T21:03:09.564307Z",
     "shell.execute_reply": "2025-06-20T21:03:09.563377Z"
    },
    "papermill": {
     "duration": 0.0153,
     "end_time": "2025-06-20T21:03:09.565943",
     "exception": false,
     "start_time": "2025-06-20T21:03:09.550643",
     "status": "completed"
    },
    "tags": []
   },
   "outputs": [],
   "source": [
    "def get_predictions(A2):\n",
    "    return np.argmax(A2, 0)\n",
    "\n",
    "def get_accuracy(predictions, Y):\n",
    "    print(predictions, Y)\n",
    "    return np.sum(predictions == Y) / Y.size\n",
    "\n",
    "def gradient_descent(X, Y, alpha, iterations):\n",
    "    W1, b1, W2, b2 = init_params()\n",
    "    for i in range(iterations):\n",
    "        Z1, A1, Z2, A2 = forward_prop(W1, b1, W2, b2, X)\n",
    "        dW1, db1, dW2, db2 = back_prop(Z1, A1, Z2, A2, W1, W2, X, Y)\n",
    "        W1, b1, W2, b2 = update_params(W1, b1, W2, b2, dW1, db1, dW2, db2, alpha)\n",
    "        if i % 10 == 0:\n",
    "            print(\"Iteration: \", i)\n",
    "            predictions = get_predictions(A2)\n",
    "            print(get_accuracy(predictions, Y))\n",
    "    return W1, b1, W2, b2"
   ]
  },
  {
   "cell_type": "code",
   "execution_count": 8,
   "id": "b4b3b709",
   "metadata": {
    "execution": {
     "iopub.execute_input": "2025-06-20T21:03:09.574013Z",
     "iopub.status.busy": "2025-06-20T21:03:09.573616Z",
     "iopub.status.idle": "2025-06-20T21:03:45.266863Z",
     "shell.execute_reply": "2025-06-20T21:03:45.265711Z"
    },
    "papermill": {
     "duration": 35.699612,
     "end_time": "2025-06-20T21:03:45.268956",
     "exception": false,
     "start_time": "2025-06-20T21:03:09.569344",
     "status": "completed"
    },
    "tags": []
   },
   "outputs": [
    {
     "name": "stdout",
     "output_type": "stream",
     "text": [
      "Iteration:  0\n",
      "[8 2 8 ... 2 0 2] [2 5 0 ... 6 5 9]\n",
      "0.08151219512195122\n",
      "Iteration:  10\n",
      "[2 1 6 ... 2 0 2] [2 5 0 ... 6 5 9]\n",
      "0.20490243902439023\n",
      "Iteration:  20\n",
      "[2 1 2 ... 2 5 2] [2 5 0 ... 6 5 9]\n",
      "0.27995121951219515\n",
      "Iteration:  30\n",
      "[2 1 2 ... 4 5 7] [2 5 0 ... 6 5 9]\n",
      "0.34063414634146344\n",
      "Iteration:  40\n",
      "[2 2 2 ... 4 5 7] [2 5 0 ... 6 5 9]\n",
      "0.39158536585365855\n",
      "Iteration:  50\n",
      "[3 2 2 ... 4 5 7] [2 5 0 ... 6 5 9]\n",
      "0.43734146341463415\n",
      "Iteration:  60\n",
      "[3 2 0 ... 4 5 7] [2 5 0 ... 6 5 9]\n",
      "0.47804878048780486\n",
      "Iteration:  70\n",
      "[3 2 0 ... 4 5 7] [2 5 0 ... 6 5 9]\n",
      "0.5169024390243903\n",
      "Iteration:  80\n",
      "[3 2 0 ... 4 5 7] [2 5 0 ... 6 5 9]\n",
      "0.5476829268292683\n",
      "Iteration:  90\n",
      "[3 0 0 ... 4 5 7] [2 5 0 ... 6 5 9]\n",
      "0.5738292682926829\n",
      "Iteration:  100\n",
      "[3 8 0 ... 4 5 7] [2 5 0 ... 6 5 9]\n",
      "0.5955609756097561\n",
      "Iteration:  110\n",
      "[3 8 0 ... 4 5 7] [2 5 0 ... 6 5 9]\n",
      "0.6159756097560976\n",
      "Iteration:  120\n",
      "[3 5 0 ... 4 5 7] [2 5 0 ... 6 5 9]\n",
      "0.6339268292682927\n",
      "Iteration:  130\n",
      "[3 5 0 ... 4 5 7] [2 5 0 ... 6 5 9]\n",
      "0.650219512195122\n",
      "Iteration:  140\n",
      "[8 5 0 ... 4 5 7] [2 5 0 ... 6 5 9]\n",
      "0.6636829268292683\n",
      "Iteration:  150\n",
      "[8 5 0 ... 2 5 7] [2 5 0 ... 6 5 9]\n",
      "0.6758536585365854\n",
      "Iteration:  160\n",
      "[8 5 0 ... 2 5 7] [2 5 0 ... 6 5 9]\n",
      "0.6877560975609756\n",
      "Iteration:  170\n",
      "[8 5 0 ... 2 5 7] [2 5 0 ... 6 5 9]\n",
      "0.6982439024390243\n",
      "Iteration:  180\n",
      "[8 5 0 ... 2 5 7] [2 5 0 ... 6 5 9]\n",
      "0.7083170731707317\n",
      "Iteration:  190\n",
      "[8 5 0 ... 2 5 7] [2 5 0 ... 6 5 9]\n",
      "0.7176585365853658\n",
      "Iteration:  200\n",
      "[8 5 0 ... 2 5 9] [2 5 0 ... 6 5 9]\n",
      "0.7274634146341463\n",
      "Iteration:  210\n",
      "[8 5 0 ... 6 5 9] [2 5 0 ... 6 5 9]\n",
      "0.735780487804878\n",
      "Iteration:  220\n",
      "[8 5 0 ... 6 5 9] [2 5 0 ... 6 5 9]\n",
      "0.7430487804878049\n",
      "Iteration:  230\n",
      "[8 5 0 ... 6 5 9] [2 5 0 ... 6 5 9]\n",
      "0.7495121951219512\n",
      "Iteration:  240\n",
      "[8 5 0 ... 6 5 9] [2 5 0 ... 6 5 9]\n",
      "0.7561219512195122\n",
      "Iteration:  250\n",
      "[8 5 0 ... 6 5 9] [2 5 0 ... 6 5 9]\n",
      "0.7626341463414634\n",
      "Iteration:  260\n",
      "[8 5 0 ... 6 5 9] [2 5 0 ... 6 5 9]\n",
      "0.7687560975609756\n",
      "Iteration:  270\n",
      "[2 5 0 ... 6 5 9] [2 5 0 ... 6 5 9]\n",
      "0.7746829268292683\n",
      "Iteration:  280\n",
      "[2 5 0 ... 6 5 9] [2 5 0 ... 6 5 9]\n",
      "0.7801219512195122\n",
      "Iteration:  290\n",
      "[2 5 0 ... 6 5 9] [2 5 0 ... 6 5 9]\n",
      "0.7847317073170732\n",
      "Iteration:  300\n",
      "[2 5 0 ... 6 5 9] [2 5 0 ... 6 5 9]\n",
      "0.7895365853658537\n",
      "Iteration:  310\n",
      "[2 5 0 ... 6 5 9] [2 5 0 ... 6 5 9]\n",
      "0.7930975609756098\n",
      "Iteration:  320\n",
      "[2 5 0 ... 6 5 9] [2 5 0 ... 6 5 9]\n",
      "0.7969024390243903\n",
      "Iteration:  330\n",
      "[2 5 0 ... 6 5 9] [2 5 0 ... 6 5 9]\n",
      "0.8006585365853659\n",
      "Iteration:  340\n",
      "[2 9 0 ... 6 5 9] [2 5 0 ... 6 5 9]\n",
      "0.8040975609756098\n",
      "Iteration:  350\n",
      "[2 9 0 ... 6 5 9] [2 5 0 ... 6 5 9]\n",
      "0.8077560975609757\n",
      "Iteration:  360\n",
      "[2 9 0 ... 6 5 9] [2 5 0 ... 6 5 9]\n",
      "0.8106341463414635\n",
      "Iteration:  370\n",
      "[2 9 0 ... 6 5 9] [2 5 0 ... 6 5 9]\n",
      "0.8140731707317073\n",
      "Iteration:  380\n",
      "[2 9 0 ... 6 5 9] [2 5 0 ... 6 5 9]\n",
      "0.8170731707317073\n",
      "Iteration:  390\n",
      "[2 9 0 ... 6 5 9] [2 5 0 ... 6 5 9]\n",
      "0.8201463414634146\n",
      "Iteration:  400\n",
      "[2 9 0 ... 6 5 9] [2 5 0 ... 6 5 9]\n",
      "0.8228536585365853\n",
      "Iteration:  410\n",
      "[2 9 0 ... 6 5 9] [2 5 0 ... 6 5 9]\n",
      "0.8255121951219512\n",
      "Iteration:  420\n",
      "[2 9 0 ... 6 5 9] [2 5 0 ... 6 5 9]\n",
      "0.8276585365853658\n",
      "Iteration:  430\n",
      "[2 9 0 ... 6 5 9] [2 5 0 ... 6 5 9]\n",
      "0.8301951219512195\n",
      "Iteration:  440\n",
      "[2 9 0 ... 6 5 9] [2 5 0 ... 6 5 9]\n",
      "0.8326829268292683\n",
      "Iteration:  450\n",
      "[2 9 0 ... 6 5 9] [2 5 0 ... 6 5 9]\n",
      "0.8349756097560975\n",
      "Iteration:  460\n",
      "[2 9 0 ... 6 5 9] [2 5 0 ... 6 5 9]\n",
      "0.8366341463414634\n",
      "Iteration:  470\n",
      "[2 9 0 ... 6 5 9] [2 5 0 ... 6 5 9]\n",
      "0.8385365853658536\n",
      "Iteration:  480\n",
      "[2 9 0 ... 6 5 9] [2 5 0 ... 6 5 9]\n",
      "0.8403658536585366\n",
      "Iteration:  490\n",
      "[2 9 0 ... 6 5 9] [2 5 0 ... 6 5 9]\n",
      "0.8424390243902439\n"
     ]
    }
   ],
   "source": [
    "W1, b1, W2, b2 = gradient_descent(X_train,Y_train, 0.10, 500)"
   ]
  },
  {
   "cell_type": "markdown",
   "id": "2980045c",
   "metadata": {
    "papermill": {
     "duration": 0.007275,
     "end_time": "2025-06-20T21:03:45.282911",
     "exception": false,
     "start_time": "2025-06-20T21:03:45.275636",
     "status": "completed"
    },
    "tags": []
   },
   "source": [
    "85% Accuracy"
   ]
  },
  {
   "cell_type": "code",
   "execution_count": 9,
   "id": "7ea6a61a",
   "metadata": {
    "execution": {
     "iopub.execute_input": "2025-06-20T21:03:45.298928Z",
     "iopub.status.busy": "2025-06-20T21:03:45.298603Z",
     "iopub.status.idle": "2025-06-20T21:03:45.306407Z",
     "shell.execute_reply": "2025-06-20T21:03:45.305266Z"
    },
    "papermill": {
     "duration": 0.019356,
     "end_time": "2025-06-20T21:03:45.308635",
     "exception": false,
     "start_time": "2025-06-20T21:03:45.289279",
     "status": "completed"
    },
    "tags": []
   },
   "outputs": [],
   "source": [
    "def make_predictions(X, W1, b1, W2, b2):\n",
    "    _, _, _, A2 = forward_prop(W1, b1, W2, b2, X)\n",
    "    predictions = get_predictions(A2)\n",
    "    return predictions\n",
    "\n",
    "def test_prediction(index, W1, b1, W2, b2):\n",
    "    current_image = X_train[:, index, None]\n",
    "    prediction = make_predictions(X_train[:, index, None], W1, b1, W2, b2)\n",
    "    label = Y_train[index]\n",
    "    print(\"Prediction: \", prediction)\n",
    "    print(\"Label: \", label)\n",
    "    \n",
    "    current_image = current_image.reshape((28, 28)) * 255\n",
    "    plt.gray()\n",
    "    plt.imshow(current_image, interpolation='nearest')\n",
    "    plt.show()"
   ]
  },
  {
   "cell_type": "code",
   "execution_count": 10,
   "id": "dbbf1604",
   "metadata": {
    "execution": {
     "iopub.execute_input": "2025-06-20T21:03:45.321646Z",
     "iopub.status.busy": "2025-06-20T21:03:45.321014Z",
     "iopub.status.idle": "2025-06-20T21:03:46.023157Z",
     "shell.execute_reply": "2025-06-20T21:03:46.022202Z"
    },
    "papermill": {
     "duration": 0.710104,
     "end_time": "2025-06-20T21:03:46.024670",
     "exception": false,
     "start_time": "2025-06-20T21:03:45.314566",
     "status": "completed"
    },
    "tags": []
   },
   "outputs": [
    {
     "name": "stdout",
     "output_type": "stream",
     "text": [
      "Prediction:  [2]\n",
      "Label:  2\n"
     ]
    },
    {
     "data": {
      "image/png": "[encoded data removed]",
      "text/plain": [
       "<Figure size 640x480 with 1 Axes>"
      ]
     },
     "metadata": {},
     "output_type": "display_data"
    },
    {
     "name": "stdout",
     "output_type": "stream",
     "text": [
      "Prediction:  [9]\n",
      "Label:  5\n"
     ]
    },
    {
     "data": {
      "image/png": "[encoded data removed]",
      "text/plain": [
       "<Figure size 640x480 with 1 Axes>"
      ]
     },
     "metadata": {},
     "output_type": "display_data"
    },
    {
     "name": "stdout",
     "output_type": "stream",
     "text": [
      "Prediction:  [0]\n",
      "Label:  0\n"
     ]
    },
    {
     "data": {
      "image/png": "[encoded data removed]",
      "text/plain": [
       "<Figure size 640x480 with 1 Axes>"
      ]
     },
     "metadata": {},
     "output_type": "display_data"
    },
    {
     "name": "stdout",
     "output_type": "stream",
     "text": [
      "Prediction:  [8]\n",
      "Label:  8\n"
     ]
    },
    {
     "data": {
      "image/png": "[encoded data removed]",
      "text/plain": [
       "<Figure size 640x480 with 1 Axes>"
      ]
     },
     "metadata": {},
     "output_type": "display_data"
    }
   ],
   "source": [
    "test_prediction(0, W1, b1, W2, b2)\n",
    "test_prediction(1, W1, b1, W2, b2)\n",
    "test_prediction(2, W1, b1, W2, b2)\n",
    "test_prediction(3, W1, b1, W2, b2)"
   ]
  },
  {
   "cell_type": "code",
   "execution_count": 11,
   "id": "90c504ee",
   "metadata": {
    "execution": {
     "iopub.execute_input": "2025-06-20T21:03:46.039428Z",
     "iopub.status.busy": "2025-06-20T21:03:46.038816Z",
     "iopub.status.idle": "2025-06-20T21:03:46.050539Z",
     "shell.execute_reply": "2025-06-20T21:03:46.049640Z"
    },
    "papermill": {
     "duration": 0.020487,
     "end_time": "2025-06-20T21:03:46.051932",
     "exception": false,
     "start_time": "2025-06-20T21:03:46.031445",
     "status": "completed"
    },
    "tags": []
   },
   "outputs": [
    {
     "name": "stdout",
     "output_type": "stream",
     "text": [
      "[3 9 6 8 2 3 4 3 7 9 1 4 8 7 8 5 0 1 3 9 5 0 1 7 9 6 8 7 3 5 3 7 0 6 4 5 8\n",
      " 7 3 9 7 9 2 0 8 4 2 8 5 8 4 0 7 6 8 1 6 6 3 8 8 0 6 4 0 2 1 5 4 7 4 1 7 3\n",
      " 8 9 2 7 2 4 3 4 7 3 2 0 8 7 1 1 3 6 0 9 6 2 3 8 8 5 1 6 8 1 0 6 3 6 1 2 4\n",
      " 3 3 2 9 2 0 7 7 8 7 9 1 1 2 6 3 1 5 1 1 9 0 5 5 7 4 2 6 4 4 4 4 5 3 5 3 9\n",
      " 7 3 8 8 6 0 5 5 5 4 1 0 1 6 1 7 7 4 9 2 5 1 8 6 1 7 0 0 9 7 2 5 2 9 0 2 5\n",
      " 9 0 9 1 8 4 4 2 5 3 7 2 8 4 5 8 8 8 4 2 0 4 5 3 9 6 2 9 0 0 9 5 8 0 1 3 3\n",
      " 1 4 0 2 3 0 5 6 5 6 9 2 5 7 9 4 3 3 0 9 1 7 6 3 7 1 2 5 5 0 9 7 7 8 3 9 8\n",
      " 3 3 0 0 8 1 3 3 7 7 8 8 5 8 9 7 5 8 5 8 1 6 2 0 0 8 9 4 8 4 8 1 1 7 0 0 0\n",
      " 0 4 3 9 5 0 7 6 7 6 1 9 8 3 8 4 8 2 9 0 6 8 6 6 5 2 4 7 4 1 2 2 3 6 3 7 2\n",
      " 2 1 9 2 2 4 1 4 0 2 2 3 8 3 6 6 3 8 0 8 9 0 5 2 9 3 3 2 1 5 8 3 6 7 7 2 7\n",
      " 8 2 7 1 7 3 0 6 0 5 9 4 2 7 0 2 3 1 1 3 9 3 2 6 5 4 0 7 4 6 0 0 8 1 5 9 8\n",
      " 3 6 0 2 2 8 1 3 5 2 3 6 7 7 1 8 6 6 6 4 7 6 3 7 4 8 6 4 6 4 8 0 1 8 1 9 7\n",
      " 5 0 3 2 2 8 0 8 8 6 0 4 5 2 3 4 1 1 7 0 0 3 2 2 8 0 7 8 5 9 0 2 7 4 1 0 1\n",
      " 9 0 9 0 2 2 8 7 3 5 2 6 8 4 1 2 6 4 1 2 9 2 3 4 3 3 9 2 3 0 6 3 8 0 7 0 8\n",
      " 1 0 0 9 3 6 8 6 7 5 9 1 4 2 0 7 5 7 8 7 3 0 9 9 5 0 6 2 2 9 8 0 5 0 9 6 1\n",
      " 4 4 7 0 9 4 1 4 6 8 6 8 1 7 1 6 0 1 4 1 0 8 3 4 8 5 2 6 2 6 9 8 6 3 9 3 3\n",
      " 6 9 9 7 4 7 3 5 9 4 7 9 7 1 7 3 4 4 7 4 6 7 1 9 3 6 8 8 2 1 6 4 1 2 6 8 6\n",
      " 8 1 4 6 1 6 2 0 5 5 8 4 0 6 0 4 7 4 9 1 7 1 0 5 2 7 6 1 9 8 2 4 8 2 0 2 8\n",
      " 0 7 3 6 4 9 9 1 3 5 7 8 0 6 9 3 7 2 6 5 9 6 6 1 3 7 6 2 9 2 8 8 2 1 1 2 7\n",
      " 9 2 6 1 4 4 4 2 7 6 1 1 3 9 4 0 0 1 9 7 7 7 7 7 1 4 4 7 7 0 5 5 3 8 3 2 7\n",
      " 2 4 2 6 9 2 0 2 2 3 9 4 7 7 4 8 1 4 5 8 2 3 2 5 6 9 6 9 1 9 9 8 2 0 0 7 9\n",
      " 8 5 7 3 6 5 9 1 4 8 2 0 0 7 6 8 5 8 0 8 2 9 6 1 2 7 0 0 3 6 3 7 0 8 3 7 2\n",
      " 5 7 1 5 1 1 1 0 1 5 8 0 4 4 0 4 0 7 8 6 9 6 2 4 1 3 8 3 1 9 3 7 2 1 7 3 7\n",
      " 7 4 0 7 5 9 1 4 6 1 4 2 6 7 9 3 8 2 9 5 6 1 8 2 3 6 9 9 8 6 2 3 4 1 6 1 6\n",
      " 9 3 1 2 7 7 0 3 0 1 0 7 6 0 2 0 3 9 1 8 8 2 2 5 4 3 3 4 6 0 7 3 3 4 1 6 2\n",
      " 4 8 6 7 8 9 1 3 0 3 1 4 1 5 5 1 2 8 9 6 1 7 6 7 8 3 6 1 6 4 8 2 3 1 5 7 4\n",
      " 3 2 4 3 0 6 1 4 9 6 5 8 6 4 5 7 6 1 1 2 7 0 6 5 1 9 1 7 3 8 5 9 8 0 4 5 5\n",
      " 6] [3 9 6 5 2 3 4 3 7 9 1 4 8 7 8 5 0 1 3 9 5 0 1 7 9 2 8 3 3 5 3 7 0 6 6 5 8\n",
      " 7 7 9 7 9 2 0 8 2 2 8 5 8 4 0 7 6 8 1 6 4 3 8 8 0 6 9 0 2 1 5 4 7 4 1 7 3\n",
      " 8 5 2 7 2 4 3 4 7 3 2 0 9 7 1 1 3 6 0 9 6 1 3 8 8 5 1 6 8 1 0 6 3 6 1 2 4\n",
      " 8 8 2 9 3 0 7 7 8 7 9 1 1 7 5 9 1 5 1 1 9 0 9 5 7 4 2 6 4 9 4 4 5 9 5 3 8\n",
      " 7 3 8 8 6 0 3 1 5 4 1 0 1 6 1 7 7 4 9 2 5 7 1 6 5 7 0 0 9 7 2 5 2 9 9 2 3\n",
      " 4 0 9 1 8 4 4 2 5 3 7 2 8 4 5 8 8 2 4 2 7 4 5 3 9 6 2 7 0 0 9 5 8 0 1 0 3\n",
      " 1 4 0 2 3 0 3 6 5 6 9 5 5 7 2 4 3 3 0 4 1 7 6 3 7 1 2 5 0 0 9 7 7 8 2 9 2\n",
      " 3 8 0 0 8 1 9 3 7 7 4 8 5 8 8 7 5 2 5 8 1 6 2 0 2 8 4 4 8 4 5 1 1 8 0 0 0\n",
      " 0 4 3 7 3 8 7 5 7 6 1 9 8 3 3 4 8 2 9 0 6 8 6 6 5 2 4 9 4 1 2 2 3 6 3 7 2\n",
      " 2 1 7 2 2 9 1 4 0 2 2 3 8 3 6 6 3 8 0 3 9 0 5 5 9 3 3 8 1 5 8 3 6 7 7 2 9\n",
      " 4 1 7 1 7 3 0 6 9 5 9 4 6 7 0 4 3 1 1 3 9 3 2 2 5 4 0 7 4 6 0 5 8 1 5 9 8\n",
      " 3 6 0 2 2 8 1 3 3 3 3 2 9 7 1 8 6 6 6 4 5 6 3 7 4 9 6 9 6 4 8 0 1 8 1 9 7\n",
      " 5 0 3 2 2 8 0 8 8 6 0 4 5 2 3 4 1 1 7 0 0 3 2 2 8 5 7 8 5 9 0 2 7 4 8 0 1\n",
      " 9 8 7 0 2 2 8 7 9 0 2 6 8 4 8 2 6 4 1 2 9 2 5 4 8 3 9 3 3 0 6 3 8 0 3 0 8\n",
      " 2 0 0 9 3 6 8 6 7 5 9 1 4 9 0 7 5 7 8 7 3 0 9 9 5 0 6 2 2 5 5 0 5 0 4 6 1\n",
      " 4 4 7 0 9 4 1 2 6 8 6 8 1 7 1 6 8 1 4 1 5 8 3 6 8 5 2 6 2 5 9 8 6 3 3 3 3\n",
      " 6 9 9 7 6 7 5 5 9 4 7 7 7 1 7 3 4 4 7 4 4 7 1 9 3 6 8 8 2 1 6 4 1 4 6 8 6\n",
      " 8 1 4 8 1 6 2 0 5 8 8 4 0 6 0 4 7 9 9 1 7 1 0 3 2 7 6 8 9 8 2 4 8 2 0 2 8\n",
      " 0 7 3 6 6 4 9 1 3 5 7 8 0 6 7 8 7 2 6 5 9 6 6 1 3 7 6 2 9 5 3 8 2 1 1 2 5\n",
      " 9 3 6 1 4 4 4 2 4 6 1 1 3 9 4 0 0 8 4 7 7 9 7 7 1 4 4 7 9 0 5 5 3 8 3 2 9\n",
      " 2 4 2 6 9 2 0 2 2 3 4 4 7 7 2 8 1 4 5 8 2 3 2 5 6 9 7 7 1 2 4 8 2 0 0 4 9\n",
      " 8 5 7 3 6 5 8 1 9 3 2 0 0 7 6 8 5 8 0 3 2 9 6 1 2 9 0 0 3 6 3 7 0 8 3 7 6\n",
      " 4 7 4 5 1 1 8 0 1 3 7 0 4 7 0 4 0 7 8 6 9 6 2 4 1 3 5 3 1 4 8 7 2 1 7 3 7\n",
      " 7 4 0 7 5 4 6 4 6 1 4 2 6 7 9 3 8 2 9 5 6 1 3 2 3 6 9 9 8 6 2 8 4 1 6 1 6\n",
      " 9 3 1 5 7 3 0 3 0 1 0 7 6 0 2 0 3 9 1 8 8 3 1 5 4 3 3 4 4 0 7 3 5 4 1 6 2\n",
      " 4 2 6 7 8 4 1 3 0 3 1 6 1 5 8 1 2 8 9 6 1 7 6 7 8 3 6 1 6 4 5 2 3 1 5 9 4\n",
      " 3 2 4 5 2 6 2 9 9 6 5 5 6 4 9 7 6 1 1 2 7 8 6 5 1 5 1 7 3 8 5 9 5 0 4 5 5\n",
      " 6]\n"
     ]
    },
    {
     "data": {
      "text/plain": [
       "0.832"
      ]
     },
     "execution_count": 11,
     "metadata": {},
     "output_type": "execute_result"
    }
   ],
   "source": [
    "dev_predictions = make_predictions(X_dev, W1, b1, W2, b2)\n",
    "get_accuracy(dev_predictions, Y_dev)"
   ]
  }
 ],
 "metadata": {
  "kaggle": {
   "accelerator": "none",
   "dataSources": [
    {
     "databundleVersionId": 861823,
     "sourceId": 3004,
     "sourceType": "competition"
    }
   ],
   "dockerImageVersionId": 31040,
   "isGpuEnabled": false,
   "isInternetEnabled": false,
   "language": "python",
   "sourceType": "notebook"
  },
  "kernelspec": {
   "display_name": "Python 3",
   "language": "python",
   "name": "python3"
  },
  "language_info": {
   "codemirror_mode": {
    "name": "ipython",
    "version": 3
   },
   "file_extension": ".py",
   "mimetype": "text/x-python",
   "name": "python",
   "nbconvert_exporter": "python",
   "pygments_lexer": "ipython3",
   "version": "3.11.11"
  },
  "papermill": {
   "default_parameters": {},
   "duration": 48.633688,
   "end_time": "2025-06-20T21:03:46.578182",
   "environment_variables": {},
   "exception": null,
   "input_path": "__notebook__.ipynb",
   "output_path": "__notebook__.ipynb",
   "parameters": {},
   "start_time": "2025-06-20T21:02:57.944494",
   "version": "2.6.0"
  }
 },
 "nbformat": 4,
 "nbformat_minor": 5
}
